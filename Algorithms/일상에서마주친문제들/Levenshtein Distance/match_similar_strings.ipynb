{
 "cells": [
  {
   "cell_type": "code",
   "execution_count": 6,
   "metadata": {},
   "outputs": [],
   "source": [
    "#1 .env\n",
    "import numpy as np\n",
    "import pandas as pd\n",
    "import fuzzywuzzy\n",
    "from fuzzywuzzy import fuzz\n",
    "from fuzzywuzzy import process"
   ]
  },
  {
   "cell_type": "code",
   "execution_count": 7,
   "metadata": {},
   "outputs": [
    {
     "data": {
      "text/html": [
       "<div>\n",
       "<style scoped>\n",
       "    .dataframe tbody tr th:only-of-type {\n",
       "        vertical-align: middle;\n",
       "    }\n",
       "\n",
       "    .dataframe tbody tr th {\n",
       "        vertical-align: top;\n",
       "    }\n",
       "\n",
       "    .dataframe thead th {\n",
       "        text-align: right;\n",
       "    }\n",
       "</style>\n",
       "<table border=\"1\" class=\"dataframe\">\n",
       "  <thead>\n",
       "    <tr style=\"text-align: right;\">\n",
       "      <th></th>\n",
       "      <th>name</th>\n",
       "      <th>bouts</th>\n",
       "      <th>KOs</th>\n",
       "    </tr>\n",
       "  </thead>\n",
       "  <tbody>\n",
       "    <tr>\n",
       "      <th>0</th>\n",
       "      <td>SAUL ALVAREZ</td>\n",
       "      <td>62</td>\n",
       "      <td>62.90</td>\n",
       "    </tr>\n",
       "    <tr>\n",
       "      <th>1</th>\n",
       "      <td>DMITRII BIVOL</td>\n",
       "      <td>20</td>\n",
       "      <td>55.00</td>\n",
       "    </tr>\n",
       "    <tr>\n",
       "      <th>2</th>\n",
       "      <td>TERENCE CRAWFORD</td>\n",
       "      <td>38</td>\n",
       "      <td>76.32</td>\n",
       "    </tr>\n",
       "    <tr>\n",
       "      <th>3</th>\n",
       "      <td>GENNADIY GOLOVKIN</td>\n",
       "      <td>45</td>\n",
       "      <td>82.22</td>\n",
       "    </tr>\n",
       "    <tr>\n",
       "      <th>4</th>\n",
       "      <td>OLEKSANDR USYK</td>\n",
       "      <td>20</td>\n",
       "      <td>65.00</td>\n",
       "    </tr>\n",
       "  </tbody>\n",
       "</table>\n",
       "</div>"
      ],
      "text/plain": [
       "                name  bouts    KOs\n",
       "0       SAUL ALVAREZ     62  62.90\n",
       "1      DMITRII BIVOL     20  55.00\n",
       "2   TERENCE CRAWFORD     38  76.32\n",
       "3  GENNADIY GOLOVKIN     45  82.22\n",
       "4     OLEKSANDR USYK     20  65.00"
      ]
     },
     "execution_count": 7,
     "metadata": {},
     "output_type": "execute_result"
    }
   ],
   "source": [
    "#2. \n",
    "df_boxrec = pd.read_csv('data/boxrec_merge.csv')  # BoxRec data를 불러옴\n",
    "df_boxrec.head()"
   ]
  },
  {
   "cell_type": "code",
   "execution_count": 8,
   "metadata": {},
   "outputs": [
    {
     "data": {
      "text/html": [
       "<div>\n",
       "<style scoped>\n",
       "    .dataframe tbody tr th:only-of-type {\n",
       "        vertical-align: middle;\n",
       "    }\n",
       "\n",
       "    .dataframe tbody tr th {\n",
       "        vertical-align: top;\n",
       "    }\n",
       "\n",
       "    .dataframe thead th {\n",
       "        text-align: right;\n",
       "    }\n",
       "</style>\n",
       "<table border=\"1\" class=\"dataframe\">\n",
       "  <thead>\n",
       "    <tr style=\"text-align: right;\">\n",
       "      <th></th>\n",
       "      <th>name</th>\n",
       "      <th>bouts</th>\n",
       "      <th>KO %</th>\n",
       "    </tr>\n",
       "  </thead>\n",
       "  <tbody>\n",
       "    <tr>\n",
       "      <th>0</th>\n",
       "      <td>ROAMER ALEXIS ANGULO</td>\n",
       "      <td>27</td>\n",
       "      <td>81.5</td>\n",
       "    </tr>\n",
       "    <tr>\n",
       "      <th>1</th>\n",
       "      <td>ALFREDO ANGULO</td>\n",
       "      <td>30</td>\n",
       "      <td>63.3</td>\n",
       "    </tr>\n",
       "    <tr>\n",
       "      <th>2</th>\n",
       "      <td>EFETOBOR APOCHI</td>\n",
       "      <td>3</td>\n",
       "      <td>100.0</td>\n",
       "    </tr>\n",
       "    <tr>\n",
       "      <th>3</th>\n",
       "      <td>FRED APOSTOLI</td>\n",
       "      <td>72</td>\n",
       "      <td>43.1</td>\n",
       "    </tr>\n",
       "    <tr>\n",
       "      <th>4</th>\n",
       "      <td>STEVE AQUILINA</td>\n",
       "      <td>22</td>\n",
       "      <td>27.3</td>\n",
       "    </tr>\n",
       "  </tbody>\n",
       "</table>\n",
       "</div>"
      ],
      "text/plain": [
       "                   name  bouts   KO %\n",
       "0  ROAMER ALEXIS ANGULO     27   81.5\n",
       "1        ALFREDO ANGULO     30   63.3\n",
       "2       EFETOBOR APOCHI      3  100.0\n",
       "3         FRED APOSTOLI     72   43.1\n",
       "4        STEVE AQUILINA     22   27.3"
      ]
     },
     "execution_count": 8,
     "metadata": {},
     "output_type": "execute_result"
    }
   ],
   "source": [
    "#3.\n",
    "df_boxstats = pd.read_csv('data/boxstats_merge.csv')  # BoxStats data를 불러옴\n",
    "df_boxstats.head()"
   ]
  },
  {
   "cell_type": "code",
   "execution_count": 9,
   "metadata": {},
   "outputs": [
    {
     "name": "stdout",
     "output_type": "stream",
     "text": [
      "['ROAMER ALEXIS ANGULO', 'ALFREDO ANGULO', 'EFETOBOR APOCHI', 'FRED APOSTOLI', 'STEVE AQUILINA'] ['SAUL ALVAREZ', 'DMITRII BIVOL', 'TERENCE CRAWFORD', 'GENNADIY GOLOVKIN', 'OLEKSANDR USYK']\n"
     ]
    }
   ],
   "source": [
    "#4. boxstats, boxrec의 이름들을 리스트로 만들어서 비교\n",
    "boxstats_name = df_boxstats.name.tolist() \n",
    "boxrec_name = df_boxrec.name.tolist()\n",
    "print(boxstats_name[:5], boxrec_name[:5])"
   ]
  },
  {
   "cell_type": "code",
   "execution_count": 10,
   "metadata": {},
   "outputs": [
    {
     "name": "stdout",
     "output_type": "stream",
     "text": [
      "1469\n"
     ]
    }
   ],
   "source": [
    "#5. 서로 달라서 비교가 안되는 이름들을 리스트로 뽑아내기 (boxstats -> boxrec 비교)\n",
    "li_nonmergable = []\n",
    "for name in boxstats_name:\n",
    "  if name not in boxrec_name:\n",
    "    li_nonmergable.append(name)\n",
    "    \n",
    "print(len(li_nonmergable))"
   ]
  },
  {
   "cell_type": "code",
   "execution_count": 11,
   "metadata": {},
   "outputs": [],
   "source": [
    "#fuzzywuzzy의 ratio (사실상 levenshtein 유사도)를 이용해서 비교\n",
    "fuzz_dict = {}\n",
    "for name in li_nonmergable:\n",
    "  for n in boxrec_name:\n",
    "    ratio = fuzz.ratio(name, n)\n",
    "    if ratio > 90:  # 점수가 90% 이상이면 뽑아옴\n",
    "      if name in fuzz_dict.keys():\n",
    "        fuzz_dict[name].append((n, ratio))\n",
    "      else:\n",
    "        fuzz_dict[name] = [(n, ratio)]"
   ]
  },
  {
   "cell_type": "code",
   "execution_count": 12,
   "metadata": {},
   "outputs": [
    {
     "name": "stdout",
     "output_type": "stream",
     "text": [
      "{'RAEESE ALEEM': [(\"RA'EESE ALEEM\", 96)], 'JERMALL CHARLO': [('JERMELL CHARLO', 93)], 'TED CHEESMAN': [('TED CHEESEMAN', 96)], 'DERECK CHISORA': [('DEREK CHISORA', 96)], 'KAREN CHUKHADZHYAN': [('KAREN CHUKHADZHIAN', 94)], 'JEZREEL CORRALES': [('JEZZREL CORRALES', 94)], 'CARLOS CRUZAT': [('CARLOS CRUZ', 92)], 'YUNIER DORTICOS': [('YUNIEL DORTICOS', 93)], 'ROMEO DUNO': [('ROMERO DUNO', 95)], 'AHMED ELBIALE': [('AHMED ELBIALI', 92)], 'RUSLAN FAYFERR': [('RUSLAN FAYFER', 96)], 'GABRIEL FLORES JR.': [('GABRIEL FLORES JR', 97)], \"O'SHANIQUE FOSTER\": [(\"O'SHAQUIE FOSTER\", 91)], 'RAYMART GABALLO': [('REYMART GABALLO', 93)], 'GENNADY GOLOVKIN': [('GENNADIY GOLOVKIN', 97)], 'NICK HANNING': [('NICK HANNIG', 96)], 'LADUMO LAMATI': [('LUDUMO LAMATI', 92)], 'FRANCISCO MATEOS': [('FRANCISCO MARTOS', 94)], 'EMMANUEL NAVARRETE': [('EMANUEL NAVARRETE', 97)], 'ALEJANDRO SANTIAGO': [('ALEXANDRO SANTIAGO', 94)], 'GIOVANNI SANTILLAN': [('GIOVANI SANTILLAN', 97)], 'JAMES SMITH': [('JAMIE SMITH', 91)], 'JOSE TORRES': [('JOSH TORRES', 91)], 'STEVE WARD': [('STEVEN WARD', 95)], 'MUKHAMMADKHUJA YAQUBOV': [('MUHAMMADKHUJA YAQUBOV', 98)]}\n"
     ]
    }
   ],
   "source": [
    "print(fuzz_dict)\n"
   ]
  },
  {
   "cell_type": "markdown",
   "metadata": {},
   "source": [
    "#알고리즘 완료! 이를 활용해서 가장 높은 Levenshtein Distance ratio(fuzz ratio)를 갖는 이름을 찾아서 merge해주면 됨\n",
    "#다만 위 경우는 boxrec 선수 갯수가 모자라서, 비슷한 이름의 다른 선수와 매칭되는 경우가 존재. 이를 해결하기 위해 boxrec에서 크롤링해오는 선수 갯수를 늘려야함"
   ]
  }
 ],
 "metadata": {
  "kernelspec": {
   "display_name": "Python 3 (ipykernel)",
   "language": "python",
   "name": "python3"
  },
  "language_info": {
   "codemirror_mode": {
    "name": "ipython",
    "version": 3
   },
   "file_extension": ".py",
   "mimetype": "text/x-python",
   "name": "python",
   "nbconvert_exporter": "python",
   "pygments_lexer": "ipython3",
   "version": "3.10.7"
  },
  "vscode": {
   "interpreter": {
    "hash": "8c3d4d9970fc5c09c50d9318a9c7fbf4d0159e4b28833276f5678ee22bded273"
   }
  }
 },
 "nbformat": 4,
 "nbformat_minor": 2
}
